{
 "cells": [
  {
   "cell_type": "code",
   "id": "initial_id",
   "metadata": {
    "collapsed": true,
    "ExecuteTime": {
     "end_time": "2024-09-03T18:16:36.089405Z",
     "start_time": "2024-09-03T18:16:32.011851Z"
    }
   },
   "source": [
    "import pandas as pd\n",
    "import numpy as np\n",
    "from numpy import loadtxt\n",
    "import tensorflow as tf\n",
    "from tensorflow import keras\n"
   ],
   "outputs": [],
   "execution_count": 1
  },
  {
   "metadata": {
    "ExecuteTime": {
     "end_time": "2024-09-03T18:16:36.476395Z",
     "start_time": "2024-09-03T18:16:36.089405Z"
    }
   },
   "cell_type": "code",
   "source": [
    "# Load the ratings matrix Y and the indicator matrix R\n",
    "\n",
    "file = open('./data/small_movies_Y.csv', 'rb')\n",
    "Y = loadtxt(file, delimiter=\",\")\n",
    "\n",
    "file = open('./data/small_movies_R.csv', 'rb')\n",
    "R = loadtxt(file, delimiter=\",\")"
   ],
   "id": "b063fcbb6f854558",
   "outputs": [],
   "execution_count": 2
  },
  {
   "metadata": {
    "ExecuteTime": {
     "end_time": "2024-09-03T18:16:36.481813Z",
     "start_time": "2024-09-03T18:16:36.477431Z"
    }
   },
   "cell_type": "code",
   "source": [
    "def normalizeRatings(Y, R):\n",
    "    \"\"\"\n",
    "    Preprocess data by subtracting the mean rating for each movie (each row).\n",
    "    Only include real ratings where R(i,j) = 1.\n",
    "    Normalize Y so that each movie has a rating of 0 on average.\n",
    "    Unrated movies then have a mean rating (0).\n",
    "    Returns the mean rating in Ymean.\n",
    "    \"\"\"\n",
    "    Ymean = (np.sum(Y * R, axis=1) / (np.sum(R, axis=1) + 1e-12)).reshape(-1, 1)\n",
    "    Ynorm = Y - np.multiply(Ymean, R)  # Subtract mean rating only for rated movies\n",
    "    return Ynorm, Ymean\n"
   ],
   "id": "77e42467baf1c7b4",
   "outputs": [],
   "execution_count": 3
  },
  {
   "metadata": {
    "ExecuteTime": {
     "end_time": "2024-09-03T18:16:36.493378Z",
     "start_time": "2024-09-03T18:16:36.484638Z"
    }
   },
   "cell_type": "code",
   "source": [
    "def cost_function(X, W, b, Y, R, lambda_):\n",
    "    # Compute the difference between predicted and actual ratings, considering only rated movies\n",
    "    j = (tf.linalg.matmul(X, tf.transpose(W)) + b - Y) * R\n",
    "    # Compute the cost function including regularization terms\n",
    "    J = 0.5 * tf.reduce_sum(j ** 2) + (lambda_ / 2) * (tf.reduce_sum(X ** 2) + tf.reduce_sum(W ** 2))\n",
    "    \n",
    "    # j = (np.dot(X, W.T) + b - Y) * R\n",
    "    # J = (np.sum(j ** 2) / 2) + (lambda_ / 2) * np.sum(np.square(W)) + (lambda_ / 2) * np.sum(np.square(X))\n",
    "    \n",
    "    return J\n",
    "\n"
   ],
   "id": "c7a088fa99d147ed",
   "outputs": [],
   "execution_count": 4
  },
  {
   "metadata": {
    "ExecuteTime": {
     "end_time": "2024-09-03T18:16:36.507898Z",
     "start_time": "2024-09-03T18:16:36.493378Z"
    }
   },
   "cell_type": "code",
   "source": [
    "# Load the movie list with titles\n",
    "df = pd.read_csv('data/small_movie_list.csv', header=0, index_col=0, delimiter=',', quotechar='\"')\n"
   ],
   "id": "ca4845cc7a9522ad",
   "outputs": [],
   "execution_count": 5
  },
  {
   "metadata": {
    "ExecuteTime": {
     "end_time": "2024-09-03T18:16:36.514892Z",
     "start_time": "2024-09-03T18:16:36.507898Z"
    }
   },
   "cell_type": "code",
   "source": [
    "num_movies, num_users = Y.shape \n",
    "\n",
    "# Initialize an array to store personal ratings\n",
    "my_ratings = np.zeros(num_movies)\n",
    "\n",
    "# Manually set ratings for selected movies\n",
    "my_ratings[929] = 5  # Lord of the Rings: The Return of the King, The\n",
    "my_ratings[246] = 5  # Shrek (2001)\n",
    "my_ratings[2716] = 3  # Inception\n",
    "my_ratings[1150] = 5  # Incredibles, The (2004)\n",
    "my_ratings[382] = 2  # Amelie (Fabuleux destin d'Amélie Poulain, Le)\n",
    "my_ratings[366] = 5  # Harry Potter and the Sorcerer's Stone (a.k.a. Harry Potter and the Philosopher's Stone) (2001)\n",
    "my_ratings[622] = 5  # Harry Potter and the Chamber of Secrets (2002)\n",
    "my_ratings[988] = 3  # Eternal Sunshine of the Spotless Mind (2004)\n",
    "my_ratings[2925] = 1  # Louis Theroux: Law & Disorder (2008)\n",
    "my_ratings[2937] = 1  # Nothing to Declare (Rien à déclarer)\n",
    "my_ratings[793] = 5  # Additional movie rating\n"
   ],
   "id": "a499246b5f0865bd",
   "outputs": [],
   "execution_count": 6
  },
  {
   "metadata": {
    "ExecuteTime": {
     "end_time": "2024-09-03T18:16:36.522917Z",
     "start_time": "2024-09-03T18:16:36.514892Z"
    }
   },
   "cell_type": "code",
   "source": [
    "# Print out the personal ratings for each movie\n",
    "for i in range(len(my_ratings)):\n",
    "    if my_ratings[i] > 0:\n",
    "        print(f\"my rating {my_ratings[i]} for movie {df.loc[i, 'title']}\")"
   ],
   "id": "bba099864965e33a",
   "outputs": [
    {
     "name": "stdout",
     "output_type": "stream",
     "text": [
      "my rating 5.0 for movie Shrek (2001)\n",
      "my rating 5.0 for movie Harry Potter and the Sorcerer's Stone (a.k.a. Harry Potter and the Philosopher's Stone) (2001)\n",
      "my rating 2.0 for movie Amelie (Fabuleux destin d'Amélie Poulain, Le) (2001)\n",
      "my rating 5.0 for movie Harry Potter and the Chamber of Secrets (2002)\n",
      "my rating 5.0 for movie Pirates of the Caribbean: The Curse of the Black Pearl (2003)\n",
      "my rating 5.0 for movie Lord of the Rings: The Return of the King, The (2003)\n",
      "my rating 3.0 for movie Eternal Sunshine of the Spotless Mind (2004)\n",
      "my rating 5.0 for movie Incredibles, The (2004)\n",
      "my rating 3.0 for movie Inception (2010)\n",
      "my rating 1.0 for movie Louis Theroux: Law & Disorder (2008)\n",
      "my rating 1.0 for movie Nothing to Declare (Rien à déclarer) (2010)\n"
     ]
    }
   ],
   "execution_count": 7
  },
  {
   "metadata": {
    "ExecuteTime": {
     "end_time": "2024-09-03T18:16:36.540011Z",
     "start_time": "2024-09-03T18:16:36.522917Z"
    }
   },
   "cell_type": "code",
   "source": [
    "# Add personal ratings to the ratings matrix Y and update R accordingly\n",
    "Y = np.c_[my_ratings, Y]\n",
    "R = np.c_[(my_ratings != 0).astype(int), R]\n"
   ],
   "id": "fd769f1e1396fc93",
   "outputs": [],
   "execution_count": 8
  },
  {
   "metadata": {
    "ExecuteTime": {
     "end_time": "2024-09-03T18:16:36.560966Z",
     "start_time": "2024-09-03T18:16:36.541548Z"
    }
   },
   "cell_type": "code",
   "source": [
    "# Normalize the ratings matrix Y\n",
    "Ynorm, Ymean = normalizeRatings(Y, R)\n"
   ],
   "id": "75d11ca0cbd0cfc7",
   "outputs": [],
   "execution_count": 9
  },
  {
   "metadata": {
    "ExecuteTime": {
     "end_time": "2024-09-03T18:16:36.565222Z",
     "start_time": "2024-09-03T18:16:36.560966Z"
    }
   },
   "cell_type": "code",
   "source": [
    "# Set parameters for the model\n",
    "alpha = 0.3  # Learning rate\n",
    "iterations = 500  # Number of iterations for gradient descent\n",
    "num_features = 100  # Number of features for each movie/user\n",
    "lambda_ = 0.1  # Regularization parameter\n",
    "num_movies, num_users = Y.shape  # Update dimensions after adding my ratings\n"
   ],
   "id": "2c1b62863bd76e70",
   "outputs": [],
   "execution_count": 10
  },
  {
   "metadata": {
    "ExecuteTime": {
     "end_time": "2024-09-03T18:17:09.936456Z",
     "start_time": "2024-09-03T18:16:36.565222Z"
    }
   },
   "cell_type": "code",
   "source": [
    "# Initialize the optimizer and the model parameters\n",
    "optimizer = keras.optimizers.Adam(learning_rate=alpha)\n",
    "W = tf.Variable(tf.random.normal((num_users, num_features), dtype=tf.float64))  # User feature matrix\n",
    "b = tf.Variable(tf.random.normal((1, num_users), dtype=tf.float64))  # User bias term\n",
    "X = tf.Variable(tf.random.normal((num_movies, num_features), dtype=tf.float64))  # Movie feature matrix\n",
    "\n",
    "# Gradient descent loop to minimize the cost function\n",
    "for itr in range(iterations):\n",
    "\n",
    "    with tf.GradientTape() as tape:\n",
    "        cost_value = cost_function(X, W, b, Ynorm, R, lambda_)  # Compute the cost function\n",
    "\n",
    "    grads = tape.gradient(cost_value,\n",
    "                          [W, X, b])  # Compute gradients of the cost function with respect to the parameters\n",
    "\n",
    "    # Update the parameters using the computed gradients\n",
    "    optimizer.apply_gradients(zip(grads, [W, X, b]))\n",
    "\n",
    "    # Print the cost value every 10 iterations\n",
    "    if itr % 20 == 0:\n",
    "        print(f'iteration : {itr}  : cost value :{cost_value:0.2f}')\n"
   ],
   "id": "939e21a11dee44bf",
   "outputs": [
    {
     "name": "stdout",
     "output_type": "stream",
     "text": [
      "iteration : 0  : cost value :2021812.84\n",
      "iteration : 20  : cost value :54359.61\n",
      "iteration : 40  : cost value :25734.21\n",
      "iteration : 60  : cost value :14523.21\n",
      "iteration : 80  : cost value :8925.23\n",
      "iteration : 100  : cost value :5843.25\n",
      "iteration : 120  : cost value :3990.06\n",
      "iteration : 140  : cost value :2811.50\n",
      "iteration : 160  : cost value :2034.80\n",
      "iteration : 180  : cost value :1509.64\n",
      "iteration : 200  : cost value :1147.44\n",
      "iteration : 220  : cost value :893.52\n",
      "iteration : 240  : cost value :712.99\n",
      "iteration : 260  : cost value :583.05\n",
      "iteration : 280  : cost value :488.52\n",
      "iteration : 300  : cost value :419.08\n",
      "iteration : 320  : cost value :367.63\n",
      "iteration : 340  : cost value :329.19\n",
      "iteration : 360  : cost value :300.24\n",
      "iteration : 380  : cost value :278.26\n",
      "iteration : 400  : cost value :261.44\n",
      "iteration : 420  : cost value :249.01\n",
      "iteration : 440  : cost value :238.43\n",
      "iteration : 460  : cost value :230.44\n",
      "iteration : 480  : cost value :224.15\n"
     ]
    }
   ],
   "execution_count": 11
  },
  {
   "metadata": {
    "ExecuteTime": {
     "end_time": "2024-09-03T18:17:09.967283Z",
     "start_time": "2024-09-03T18:17:09.936456Z"
    }
   },
   "cell_type": "code",
   "source": [
    "# Make predictions by computing the dot product of X and W, adding the bias term and mean ratings\n",
    "predictions = np.dot(X.numpy(), W.numpy().T) + b.numpy()\n",
    "predictions = predictions + Ymean  # Add the mean rating back to denormalize\n",
    "\n",
    "# Extract personal predictions (the first column corresponds to my ratings)\n",
    "my_predictions = predictions[:, 0]\n",
    "\n",
    "# Print out the predictions for the movies that were rated\n",
    "for i in range(len(my_ratings)):\n",
    "    if my_ratings[i] > 0:\n",
    "        print(f\"my rating {my_ratings[i]} , prediction : {my_predictions[i]:0.2f} for movie :{df.loc[i, 'title']}\")\n"
   ],
   "id": "d99f1bc84427b238",
   "outputs": [
    {
     "name": "stdout",
     "output_type": "stream",
     "text": [
      "my rating 5.0 , prediction : 4.98 for movie :Shrek (2001)\n",
      "my rating 5.0 , prediction : 4.98 for movie :Harry Potter and the Sorcerer's Stone (a.k.a. Harry Potter and the Philosopher's Stone) (2001)\n",
      "my rating 2.0 , prediction : 2.02 for movie :Amelie (Fabuleux destin d'Amélie Poulain, Le) (2001)\n",
      "my rating 5.0 , prediction : 4.99 for movie :Harry Potter and the Chamber of Secrets (2002)\n",
      "my rating 5.0 , prediction : 4.98 for movie :Pirates of the Caribbean: The Curse of the Black Pearl (2003)\n",
      "my rating 5.0 , prediction : 4.98 for movie :Lord of the Rings: The Return of the King, The (2003)\n",
      "my rating 3.0 , prediction : 3.00 for movie :Eternal Sunshine of the Spotless Mind (2004)\n",
      "my rating 5.0 , prediction : 4.99 for movie :Incredibles, The (2004)\n",
      "my rating 3.0 , prediction : 3.00 for movie :Inception (2010)\n",
      "my rating 1.0 , prediction : 1.04 for movie :Louis Theroux: Law & Disorder (2008)\n",
      "my rating 1.0 , prediction : 1.03 for movie :Nothing to Declare (Rien à déclarer) (2010)\n"
     ]
    }
   ],
   "execution_count": 12
  },
  {
   "metadata": {
    "ExecuteTime": {
     "end_time": "2024-09-03T18:17:10.152436Z",
     "start_time": "2024-09-03T18:17:09.967283Z"
    }
   },
   "cell_type": "code",
   "source": [
    "# most similar movies\n",
    "indices_high_ratings = np.where(Y[:, 0] > 4)[0]\n",
    "distance_set = set()\n",
    "X = X.numpy()\n",
    "num_movies= X.shape[0]\n",
    "\n",
    "for i in indices_high_ratings:\n",
    "    for j in range(num_movies):\n",
    "        if i != j:\n",
    "            distance = np.linalg.norm(X[i, :] - X[j, :])\n",
    "            distance_set.add((distance, j))\n",
    "\n",
    "sorted_distances = sorted(distance_set, key=lambda x: x[0])[:5]\n",
    "\n",
    "for distance, movie_index in sorted_distances:\n",
    "    print(f\"Similar movie: {df.loc[movie_index, 'title']}\")\n"
   ],
   "id": "1dcfefc8bc914895",
   "outputs": [
    {
     "name": "stdout",
     "output_type": "stream",
     "text": [
      "Similar movie: The Hunger Games: Catching Fire (2013)\n",
      "Similar movie: Windtalkers (2002)\n",
      "Similar movie: The Alamo (2004)\n",
      "Similar movie: Star Trek: Nemesis (2002)\n",
      "Similar movie: Adventures of Sharkboy and Lavagirl 3-D, The (2005)\n"
     ]
    }
   ],
   "execution_count": 13
  },
  {
   "metadata": {
    "ExecuteTime": {
     "end_time": "2024-09-03T18:17:10.159131Z",
     "start_time": "2024-09-03T18:17:10.155075Z"
    }
   },
   "cell_type": "code",
   "source": "",
   "id": "b2b33469b338e88e",
   "outputs": [],
   "execution_count": 13
  }
 ],
 "metadata": {
  "kernelspec": {
   "display_name": "Python 3",
   "language": "python",
   "name": "python3"
  },
  "language_info": {
   "codemirror_mode": {
    "name": "ipython",
    "version": 2
   },
   "file_extension": ".py",
   "mimetype": "text/x-python",
   "name": "python",
   "nbconvert_exporter": "python",
   "pygments_lexer": "ipython2",
   "version": "2.7.6"
  }
 },
 "nbformat": 4,
 "nbformat_minor": 5
}
